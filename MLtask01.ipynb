{
 "cells": [
  {
   "cell_type": "code",
   "execution_count": 1,
   "id": "00b3d933-c014-4b5f-8754-f01f75bf4b50",
   "metadata": {},
   "outputs": [],
   "source": [
    "import pandas as pd"
   ]
  },
  {
   "cell_type": "code",
   "execution_count": 3,
   "id": "5c46b807-0755-4f46-819e-1b295a493284",
   "metadata": {},
   "outputs": [],
   "source": [
    "from sklearn.datasets import load_iris\n",
    "iris = load_iris()"
   ]
  },
  {
   "cell_type": "code",
   "execution_count": 5,
   "id": "7926cd4e-d3e7-422f-b377-f10fa5f65abc",
   "metadata": {},
   "outputs": [],
   "source": [
    "x = iris.data\n",
    "y = iris.target"
   ]
  },
  {
   "cell_type": "code",
   "execution_count": 27,
   "id": "ef2bc63c-5242-480c-afe3-e8f929a430df",
   "metadata": {},
   "outputs": [
    {
     "name": "stdout",
     "output_type": "stream",
     "text": [
      "(150, 4)\n"
     ]
    }
   ],
   "source": [
    "print(x.shape)"
   ]
  },
  {
   "cell_type": "code",
   "execution_count": 19,
   "id": "69ba33be-bf5a-4466-8b89-825f52d7aebc",
   "metadata": {},
   "outputs": [],
   "source": [
    "from sklearn.model_selection import train_test_split\n",
    "x_train, x_test, y_train, y_test = train_test_split(x, y, test_size=0.2, random_state=42)"
   ]
  },
  {
   "cell_type": "code",
   "execution_count": 21,
   "id": "395d2dd4-4ca2-4c64-82e9-0ec6ef2f4db9",
   "metadata": {},
   "outputs": [
    {
     "name": "stdout",
     "output_type": "stream",
     "text": [
      "(120, 4)\n"
     ]
    }
   ],
   "source": [
    "print(x_train.shape)"
   ]
  },
  {
   "cell_type": "code",
   "execution_count": 23,
   "id": "9d987e4c-59e1-48da-860c-0713e33fcee6",
   "metadata": {},
   "outputs": [
    {
     "name": "stdout",
     "output_type": "stream",
     "text": [
      "(30, 4)\n"
     ]
    }
   ],
   "source": [
    "print(x_test.shape)"
   ]
  },
  {
   "cell_type": "raw",
   "id": "b0609b30-9f3e-43f7-889a-35a8fdc0d2ab",
   "metadata": {},
   "source": [
    "print(\"y_train shape:\", y_train.shape)\n",
    "print(\"First few values of y_train:\", y_train[:5])"
   ]
  },
  {
   "cell_type": "code",
   "execution_count": 29,
   "id": "ab8c1cfa-91ff-4747-9c60-8a5b327073e4",
   "metadata": {},
   "outputs": [],
   "source": [
    "from sklearn.preprocessing import StandardScaler\n",
    "scaler=StandardScaler()\n",
    "x_train_scaled=scaler.fit_transform(x_train)\n",
    "x_test_scaled=scaler.transform(x_test)"
   ]
  },
  {
   "cell_type": "code",
   "execution_count": 31,
   "id": "2059f7bf-d94d-4de0-9841-c750e525395b",
   "metadata": {},
   "outputs": [
    {
     "name": "stdout",
     "output_type": "stream",
     "text": [
      "[[4.6 3.6 1.  0.2]\n",
      " [5.7 4.4 1.5 0.4]\n",
      " [6.7 3.1 4.4 1.4]\n",
      " [4.8 3.4 1.6 0.2]\n",
      " [4.4 3.2 1.3 0.2]\n",
      " [6.3 2.5 5.  1.9]\n",
      " [6.4 3.2 4.5 1.5]\n",
      " [5.2 3.5 1.5 0.2]\n",
      " [5.  3.6 1.4 0.2]\n",
      " [5.2 4.1 1.5 0.1]\n",
      " [5.8 2.7 5.1 1.9]\n",
      " [6.  3.4 4.5 1.6]\n",
      " [6.7 3.1 4.7 1.5]\n",
      " [5.4 3.9 1.3 0.4]\n",
      " [5.4 3.7 1.5 0.2]\n",
      " [5.5 2.4 3.7 1. ]\n",
      " [6.3 2.8 5.1 1.5]\n",
      " [6.4 3.1 5.5 1.8]\n",
      " [6.6 3.  4.4 1.4]\n",
      " [7.2 3.6 6.1 2.5]\n",
      " [5.7 2.9 4.2 1.3]\n",
      " [7.6 3.  6.6 2.1]\n",
      " [5.6 3.  4.5 1.5]\n",
      " [5.1 3.5 1.4 0.2]\n",
      " [7.7 2.8 6.7 2. ]\n",
      " [5.8 2.7 4.1 1. ]\n",
      " [5.2 3.4 1.4 0.2]\n",
      " [5.  3.5 1.3 0.3]\n",
      " [5.1 3.8 1.9 0.4]\n",
      " [5.  2.  3.5 1. ]\n",
      " [6.3 2.7 4.9 1.8]\n",
      " [4.8 3.4 1.9 0.2]\n",
      " [5.  3.  1.6 0.2]\n",
      " [5.1 3.3 1.7 0.5]\n",
      " [5.6 2.7 4.2 1.3]\n",
      " [5.1 3.4 1.5 0.2]\n",
      " [5.7 3.  4.2 1.2]\n",
      " [7.7 3.8 6.7 2.2]\n",
      " [4.6 3.2 1.4 0.2]\n",
      " [6.2 2.9 4.3 1.3]\n",
      " [5.7 2.5 5.  2. ]\n",
      " [5.5 4.2 1.4 0.2]\n",
      " [6.  3.  4.8 1.8]\n",
      " [5.8 2.7 5.1 1.9]\n",
      " [6.  2.2 4.  1. ]\n",
      " [5.4 3.  4.5 1.5]\n",
      " [6.2 3.4 5.4 2.3]\n",
      " [5.5 2.3 4.  1.3]\n",
      " [5.4 3.9 1.7 0.4]\n",
      " [5.  2.3 3.3 1. ]\n",
      " [6.4 2.7 5.3 1.9]\n",
      " [5.  3.3 1.4 0.2]\n",
      " [5.  3.2 1.2 0.2]\n",
      " [5.5 2.4 3.8 1.1]\n",
      " [6.7 3.  5.  1.7]\n",
      " [4.9 3.1 1.5 0.2]\n",
      " [5.8 2.8 5.1 2.4]\n",
      " [5.  3.4 1.5 0.2]\n",
      " [5.  3.5 1.6 0.6]\n",
      " [5.9 3.2 4.8 1.8]\n",
      " [5.1 2.5 3.  1.1]\n",
      " [6.9 3.2 5.7 2.3]\n",
      " [6.  2.7 5.1 1.6]\n",
      " [6.1 2.6 5.6 1.4]\n",
      " [7.7 3.  6.1 2.3]\n",
      " [5.5 2.5 4.  1.3]\n",
      " [4.4 2.9 1.4 0.2]\n",
      " [4.3 3.  1.1 0.1]\n",
      " [6.  2.2 5.  1.5]\n",
      " [7.2 3.2 6.  1.8]\n",
      " [4.6 3.1 1.5 0.2]\n",
      " [5.1 3.5 1.4 0.3]\n",
      " [4.4 3.  1.3 0.2]\n",
      " [6.3 2.5 4.9 1.5]\n",
      " [6.3 3.4 5.6 2.4]\n",
      " [4.6 3.4 1.4 0.3]\n",
      " [6.8 3.  5.5 2.1]\n",
      " [6.3 3.3 6.  2.5]\n",
      " [4.7 3.2 1.3 0.2]\n",
      " [6.1 2.9 4.7 1.4]\n",
      " [6.5 2.8 4.6 1.5]\n",
      " [6.2 2.8 4.8 1.8]\n",
      " [7.  3.2 4.7 1.4]\n",
      " [6.4 3.2 5.3 2.3]\n",
      " [5.1 3.8 1.6 0.2]\n",
      " [6.9 3.1 5.4 2.1]\n",
      " [5.9 3.  4.2 1.5]\n",
      " [6.5 3.  5.2 2. ]\n",
      " [5.7 2.6 3.5 1. ]\n",
      " [5.2 2.7 3.9 1.4]\n",
      " [6.1 3.  4.6 1.4]\n",
      " [4.5 2.3 1.3 0.3]\n",
      " [6.6 2.9 4.6 1.3]\n",
      " [5.5 2.6 4.4 1.2]\n",
      " [5.3 3.7 1.5 0.2]\n",
      " [5.6 3.  4.1 1.3]\n",
      " [7.3 2.9 6.3 1.8]\n",
      " [6.7 3.3 5.7 2.1]\n",
      " [5.1 3.7 1.5 0.4]\n",
      " [4.9 2.4 3.3 1. ]\n",
      " [6.7 3.3 5.7 2.5]\n",
      " [7.2 3.  5.8 1.6]\n",
      " [4.9 3.6 1.4 0.1]\n",
      " [6.7 3.1 5.6 2.4]\n",
      " [4.9 3.  1.4 0.2]\n",
      " [6.9 3.1 4.9 1.5]\n",
      " [7.4 2.8 6.1 1.9]\n",
      " [6.3 2.9 5.6 1.8]\n",
      " [5.7 2.8 4.1 1.3]\n",
      " [6.5 3.  5.5 1.8]\n",
      " [6.3 2.3 4.4 1.3]\n",
      " [6.4 2.9 4.3 1.3]\n",
      " [5.6 2.8 4.9 2. ]\n",
      " [5.9 3.  5.1 1.8]\n",
      " [5.4 3.4 1.7 0.2]\n",
      " [6.1 2.8 4.  1.3]\n",
      " [4.9 2.5 4.5 1.7]\n",
      " [5.8 4.  1.2 0.2]\n",
      " [5.8 2.6 4.  1.2]\n",
      " [7.1 3.  5.9 2.1]]\n"
     ]
    }
   ],
   "source": [
    "print(x_train)"
   ]
  },
  {
   "cell_type": "code",
   "execution_count": 33,
   "id": "c6b2e609-c653-4d05-b281-9fe5cba768b8",
   "metadata": {},
   "outputs": [
    {
     "name": "stdout",
     "output_type": "stream",
     "text": [
      "[[-1.47393679  1.20365799 -1.56253475 -1.31260282]\n",
      " [-0.13307079  2.99237573 -1.27600637 -1.04563275]\n",
      " [ 1.08589829  0.08570939  0.38585821  0.28921757]\n",
      " [-1.23014297  0.75647855 -1.2187007  -1.31260282]\n",
      " [-1.7177306   0.30929911 -1.39061772 -1.31260282]\n",
      " [ 0.59831066 -1.25582892  0.72969227  0.95664273]\n",
      " [ 0.72020757  0.30929911  0.44316389  0.4227026 ]\n",
      " [-0.74255534  0.98006827 -1.27600637 -1.31260282]\n",
      " [-0.98634915  1.20365799 -1.33331205 -1.31260282]\n",
      " [-0.74255534  2.32160658 -1.27600637 -1.44608785]\n",
      " [-0.01117388 -0.80864948  0.78699794  0.95664273]\n",
      " [ 0.23261993  0.75647855  0.44316389  0.55618763]\n",
      " [ 1.08589829  0.08570939  0.55777524  0.4227026 ]\n",
      " [-0.49876152  1.87442714 -1.39061772 -1.04563275]\n",
      " [-0.49876152  1.4272477  -1.27600637 -1.31260282]\n",
      " [-0.37686461 -1.47941864 -0.01528151 -0.24472256]\n",
      " [ 0.59831066 -0.58505976  0.78699794  0.4227026 ]\n",
      " [ 0.72020757  0.08570939  1.01622064  0.8231577 ]\n",
      " [ 0.96400139 -0.13788033  0.38585821  0.28921757]\n",
      " [ 1.69538284  1.20365799  1.3600547   1.75755292]\n",
      " [-0.13307079 -0.36147005  0.27124686  0.15573254]\n",
      " [ 2.18297047 -0.13788033  1.64658307  1.22361279]\n",
      " [-0.2549677  -0.13788033  0.44316389  0.4227026 ]\n",
      " [-0.86445224  0.98006827 -1.33331205 -1.31260282]\n",
      " [ 2.30486738 -0.58505976  1.70388875  1.09012776]\n",
      " [-0.01117388 -0.80864948  0.21394119 -0.24472256]\n",
      " [-0.74255534  0.75647855 -1.33331205 -1.31260282]\n",
      " [-0.98634915  0.98006827 -1.39061772 -1.17911778]\n",
      " [-0.86445224  1.65083742 -1.04678367 -1.04563275]\n",
      " [-0.98634915 -2.37377751 -0.12989286 -0.24472256]\n",
      " [ 0.59831066 -0.80864948  0.67238659  0.8231577 ]\n",
      " [-1.23014297  0.75647855 -1.04678367 -1.31260282]\n",
      " [-0.98634915 -0.13788033 -1.2187007  -1.31260282]\n",
      " [-0.86445224  0.53288883 -1.16139502 -0.91214772]\n",
      " [-0.2549677  -0.80864948  0.27124686  0.15573254]\n",
      " [-0.86445224  0.75647855 -1.27600637 -1.31260282]\n",
      " [-0.13307079 -0.13788033  0.27124686  0.02224751]\n",
      " [ 2.30486738  1.65083742  1.70388875  1.35709783]\n",
      " [-1.47393679  0.30929911 -1.33331205 -1.31260282]\n",
      " [ 0.47641375 -0.36147005  0.32855254  0.15573254]\n",
      " [-0.13307079 -1.25582892  0.72969227  1.09012776]\n",
      " [-0.37686461  2.5451963  -1.33331205 -1.31260282]\n",
      " [ 0.23261993 -0.13788033  0.61508092  0.8231577 ]\n",
      " [-0.01117388 -0.80864948  0.78699794  0.95664273]\n",
      " [ 0.23261993 -1.92659808  0.15663551 -0.24472256]\n",
      " [-0.49876152 -0.13788033  0.44316389  0.4227026 ]\n",
      " [ 0.47641375  0.75647855  0.95891497  1.49058286]\n",
      " [-0.37686461 -1.70300836  0.15663551  0.15573254]\n",
      " [-0.49876152  1.87442714 -1.16139502 -1.04563275]\n",
      " [-0.98634915 -1.70300836 -0.24450422 -0.24472256]\n",
      " [ 0.72020757 -0.80864948  0.90160929  0.95664273]\n",
      " [-0.98634915  0.53288883 -1.33331205 -1.31260282]\n",
      " [-0.98634915  0.30929911 -1.4479234  -1.31260282]\n",
      " [-0.37686461 -1.47941864  0.04202416 -0.11123753]\n",
      " [ 1.08589829 -0.13788033  0.72969227  0.68967267]\n",
      " [-1.10824606  0.08570939 -1.27600637 -1.31260282]\n",
      " [-0.01117388 -0.58505976  0.78699794  1.62406789]\n",
      " [-0.98634915  0.75647855 -1.27600637 -1.31260282]\n",
      " [-0.98634915  0.98006827 -1.2187007  -0.77866269]\n",
      " [ 0.11072303  0.30929911  0.61508092  0.8231577 ]\n",
      " [-0.86445224 -1.25582892 -0.41642124 -0.11123753]\n",
      " [ 1.32969211  0.30929911  1.130832    1.49058286]\n",
      " [ 0.23261993 -0.80864948  0.78699794  0.55618763]\n",
      " [ 0.35451684 -1.0322392   1.07352632  0.28921757]\n",
      " [ 2.30486738 -0.13788033  1.3600547   1.49058286]\n",
      " [-0.37686461 -1.25582892  0.15663551  0.15573254]\n",
      " [-1.7177306  -0.36147005 -1.33331205 -1.31260282]\n",
      " [-1.83962751 -0.13788033 -1.50522907 -1.44608785]\n",
      " [ 0.23261993 -1.92659808  0.72969227  0.4227026 ]\n",
      " [ 1.69538284  0.30929911  1.30274902  0.8231577 ]\n",
      " [-1.47393679  0.08570939 -1.27600637 -1.31260282]\n",
      " [-0.86445224  0.98006827 -1.33331205 -1.17911778]\n",
      " [-1.7177306  -0.13788033 -1.39061772 -1.31260282]\n",
      " [ 0.59831066 -1.25582892  0.67238659  0.4227026 ]\n",
      " [ 0.59831066  0.75647855  1.07352632  1.62406789]\n",
      " [-1.47393679  0.75647855 -1.33331205 -1.17911778]\n",
      " [ 1.2077952  -0.13788033  1.01622064  1.22361279]\n",
      " [ 0.59831066  0.53288883  1.30274902  1.75755292]\n",
      " [-1.35203988  0.30929911 -1.39061772 -1.31260282]\n",
      " [ 0.35451684 -0.36147005  0.55777524  0.28921757]\n",
      " [ 0.84210448 -0.58505976  0.50046957  0.4227026 ]\n",
      " [ 0.47641375 -0.58505976  0.61508092  0.8231577 ]\n",
      " [ 1.45158902  0.30929911  0.55777524  0.28921757]\n",
      " [ 0.72020757  0.30929911  0.90160929  1.49058286]\n",
      " [-0.86445224  1.65083742 -1.2187007  -1.31260282]\n",
      " [ 1.32969211  0.08570939  0.95891497  1.22361279]\n",
      " [ 0.11072303 -0.13788033  0.27124686  0.4227026 ]\n",
      " [ 0.84210448 -0.13788033  0.84430362  1.09012776]\n",
      " [-0.13307079 -1.0322392  -0.12989286 -0.24472256]\n",
      " [-0.74255534 -0.80864948  0.09932984  0.28921757]\n",
      " [ 0.35451684 -0.13788033  0.50046957  0.28921757]\n",
      " [-1.5958337  -1.70300836 -1.39061772 -1.17911778]\n",
      " [ 0.96400139 -0.36147005  0.50046957  0.15573254]\n",
      " [-0.37686461 -1.0322392   0.38585821  0.02224751]\n",
      " [-0.62065843  1.4272477  -1.27600637 -1.31260282]\n",
      " [-0.2549677  -0.13788033  0.21394119  0.15573254]\n",
      " [ 1.81727975 -0.36147005  1.47466605  0.8231577 ]\n",
      " [ 1.08589829  0.53288883  1.130832    1.22361279]\n",
      " [-0.86445224  1.4272477  -1.27600637 -1.04563275]\n",
      " [-1.10824606 -1.47941864 -0.24450422 -0.24472256]\n",
      " [ 1.08589829  0.53288883  1.130832    1.75755292]\n",
      " [ 1.69538284 -0.13788033  1.18813767  0.55618763]\n",
      " [-1.10824606  1.20365799 -1.33331205 -1.44608785]\n",
      " [ 1.08589829  0.08570939  1.07352632  1.62406789]\n",
      " [-1.10824606 -0.13788033 -1.33331205 -1.31260282]\n",
      " [ 1.32969211  0.08570939  0.67238659  0.4227026 ]\n",
      " [ 1.93917666 -0.58505976  1.3600547   0.95664273]\n",
      " [ 0.59831066 -0.36147005  1.07352632  0.8231577 ]\n",
      " [-0.13307079 -0.58505976  0.21394119  0.15573254]\n",
      " [ 0.84210448 -0.13788033  1.01622064  0.8231577 ]\n",
      " [ 0.59831066 -1.70300836  0.38585821  0.15573254]\n",
      " [ 0.72020757 -0.36147005  0.32855254  0.15573254]\n",
      " [-0.2549677  -0.58505976  0.67238659  1.09012776]\n",
      " [ 0.11072303 -0.13788033  0.78699794  0.8231577 ]\n",
      " [-0.49876152  0.75647855 -1.16139502 -1.31260282]\n",
      " [ 0.35451684 -0.58505976  0.15663551  0.15573254]\n",
      " [-1.10824606 -1.25582892  0.44316389  0.68967267]\n",
      " [-0.01117388  2.09801686 -1.4479234  -1.31260282]\n",
      " [-0.01117388 -1.0322392   0.15663551  0.02224751]\n",
      " [ 1.57348593 -0.13788033  1.24544335  1.22361279]]\n"
     ]
    }
   ],
   "source": [
    "print(x_train_scaled)"
   ]
  },
  {
   "cell_type": "code",
   "execution_count": 25,
   "id": "2ca2db85-f5fd-44ad-8ad6-c333f21f4b52",
   "metadata": {},
   "outputs": [],
   "source": [
    "from sklearn.neighbors import KNeighborsClassifier\n",
    "from sklearn.metrics import accuracy_score, precision_score, recall_score\n",
    "for k in [1, 3, 5]:\n",
    "    knn = KNeighborsClassifier(n_neighbors=k)\n",
    "    knn.fit(x_train, y_train)\n",
    "    y_pred = knn.predict(x_test)\n",
    "    "
   ]
  },
  {
   "cell_type": "code",
   "execution_count": 15,
   "id": "4a877f83-c9c8-464f-b430-d936fa25ff5d",
   "metadata": {},
   "outputs": [
    {
     "name": "stdout",
     "output_type": "stream",
     "text": [
      "k=5\n",
      "Accuracy score of KNN: 1.0\n",
      "Precision score of KNN: 1.0\n",
      "Recall score of KNN: 1.0\n",
      "\n"
     ]
    }
   ],
   "source": [
    "print(f'k={k}')\n",
    "print(\"Accuracy score of KNN:\", accuracy_score(y_test, y_pred))\n",
    "print(\"Precision score of KNN:\", precision_score(y_test, y_pred, average=\"weighted\"))\n",
    "print(\"Recall score of KNN:\", recall_score(y_test, y_pred, average=\"weighted\"))\n",
    "print()"
   ]
  },
  {
   "cell_type": "code",
   "execution_count": 43,
   "id": "b5ee5098-23f7-4c73-b4d7-ef449b7e8ec7",
   "metadata": {},
   "outputs": [
    {
     "name": "stdout",
     "output_type": "stream",
     "text": [
      "k=5\n",
      "Accuracy score of KNN: 0.36666666666666664\n",
      "Precision score of KNN: 0.13444444444444445\n",
      "Recall score of KNN: 0.36666666666666664\n",
      "\n"
     ]
    },
    {
     "name": "stderr",
     "output_type": "stream",
     "text": [
      "C:\\Users\\Siddaraju\\AppData\\Roaming\\Python\\Python312\\site-packages\\sklearn\\metrics\\_classification.py:1565: UndefinedMetricWarning: Precision is ill-defined and being set to 0.0 in labels with no predicted samples. Use `zero_division` parameter to control this behavior.\n",
      "  _warn_prf(average, modifier, f\"{metric.capitalize()} is\", len(result))\n"
     ]
    }
   ],
   "source": [
    "from sklearn.neighbors import KNeighborsClassifier\n",
    "from sklearn.metrics import accuracy_score, precision_score, recall_score\n",
    "for k in [1, 3, 5]:\n",
    "    knn = KNeighborsClassifier(n_neighbors=k,weights='distance')\n",
    "    knn.fit(x_train_scaled, y_train)\n",
    "    y_pred = knn.predict(x_test)\n",
    "print(f'k={k}')\n",
    "print(\"Accuracy score of KNN:\", accuracy_score(y_test, y_pred))\n",
    "print(\"Precision score of KNN:\", precision_score(y_test, y_pred, average=\"weighted\"))\n",
    "print(\"Recall score of KNN:\", recall_score(y_test, y_pred, average=\"weighted\"))\n",
    "print()"
   ]
  },
  {
   "cell_type": "code",
   "execution_count": 1,
   "id": "fd1325f4-baa5-4ad5-8b60-76ec25168227",
   "metadata": {},
   "outputs": [],
   "source": [
    "import matplotlib.pyplot as plt"
   ]
  },
  {
   "cell_type": "code",
   "execution_count": 3,
   "id": "fb63b9d5-31ff-4f89-8698-66d9d7f4687e",
   "metadata": {},
   "outputs": [],
   "source": [
    "k_values = [1,3,5]"
   ]
  },
  {
   "cell_type": "code",
   "execution_count": 17,
   "id": "0de8090f-41a5-43a1-85a4-90a9ca5dffd4",
   "metadata": {},
   "outputs": [],
   "source": [
    "accuracy = [1.0, 1.0, 1.0]\n",
    "precision = [1.0, 1.0, 1.0]\n",
    "recall = [1.0, 1.0, 1.0]"
   ]
  },
  {
   "cell_type": "code",
   "execution_count": 38,
   "id": "2391b273-9652-4be4-8512-df64cdc2412e",
   "metadata": {},
   "outputs": [
    {
     "data": {
      "image/png": "[encoded data removed]",
      "text/plain": [
       "<Figure size 800x600 with 1 Axes>"
      ]
     },
     "metadata": {},
     "output_type": "display_data"
    }
   ],
   "source": [
    "plt.figure(figsize=(8,6))\n",
    "plt.plot(k_values, accuracy, marker='o', label='Accuracy')\n",
    "plt.plot(k_values, precision, marker='s', label='Precision')\n",
    "plt.plot(k_values, accuracy, marker='^', label='Recall')\n",
    "plt.xlabel('k value')\n",
    "plt.ylabel('Score')\n",
    "plt.title('KNN iris dataset')\n",
    "plt.xticks(k_values)\n",
    "plt.ylim(0.9, 1.05)\n",
    "plt.grid(True)\n",
    "plt.legend()\n",
    "plt.tight_layout()\n",
    "plt.show()"
   ]
  },
  {
   "cell_type": "code",
   "execution_count": null,
   "id": "81db45e8-77e2-4bb7-914f-1830a2614b27",
   "metadata": {},
   "outputs": [],
   "source": []
  },
  {
   "cell_type": "code",
   "execution_count": null,
   "id": "2656e95c-5a4d-4255-9aae-2f3017e6b2d7",
   "metadata": {},
   "outputs": [],
   "source": []
  }
 ],
 "metadata": {
  "kernelspec": {
   "display_name": "Python [conda env:base] *",
   "language": "python",
   "name": "conda-base-py"
  },
  "language_info": {
   "codemirror_mode": {
    "name": "ipython",
    "version": 3
   },
   "file_extension": ".py",
   "mimetype": "text/x-python",
   "name": "python",
   "nbconvert_exporter": "python",
   "pygments_lexer": "ipython3",
   "version": "3.12.7"
  }
 },
 "nbformat": 4,
 "nbformat_minor": 5
}
